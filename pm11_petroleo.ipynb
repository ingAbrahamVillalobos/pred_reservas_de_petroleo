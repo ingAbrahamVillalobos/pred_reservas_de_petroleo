{
 "cells": [
  {
   "cell_type": "markdown",
   "metadata": {},
   "source": [
    "# Proyecto Sprint 11: Aprendizaje automático en negocios"
   ]
  },
  {
   "cell_type": "markdown",
   "metadata": {},
   "source": [
    "## Introducción \n",
    "\n",
    "En este proyecto, trabajamos para OilyGiant, una compañía de extracción de petróleo. Nuestro objetivo es encontrar las mejores ubicaciones para abrir 200 nuevos pozos utilizando modelos de regresión lineal.  \n",
    "\n",
    "Para ello, analizaremos datos geológicos de tres regiones y crearemos un modelo que prediga el volumen de reservas en cada pozo. Luego, seleccionaremos los 200 pozos más rentables en cada región y estimaremos su beneficio total. Finalmente, utilizaremos bootstrapping para evaluar riesgos y asegurarnos de elegir la mejor región con máxima rentabilidad y mínimo riesgo."
   ]
  },
  {
   "cell_type": "code",
   "execution_count": 2,
   "metadata": {
    "trusted": false
   },
   "outputs": [],
   "source": [
    "# Librerias\n",
    "import pandas as pd\n",
    "import numpy as np\n",
    "from sklearn.model_selection import train_test_split\n",
    "from sklearn.linear_model import LinearRegression\n",
    "from sklearn.metrics import mean_squared_error\n"
   ]
  },
  {
   "cell_type": "code",
   "execution_count": 3,
   "metadata": {
    "trusted": false
   },
   "outputs": [],
   "source": [
    "# cargar los datos\n",
    "df0 = pd.read_csv('/datasets/geo_data_0.csv')\n",
    "df1 = pd.read_csv('/datasets/geo_data_1.csv')\n",
    "df2 = pd.read_csv('/datasets/geo_data_2.csv')"
   ]
  },
  {
   "cell_type": "markdown",
   "metadata": {},
   "source": [
    "## Análisis exploratorio de datos "
   ]
  },
  {
   "cell_type": "code",
   "execution_count": 4,
   "metadata": {
    "trusted": false
   },
   "outputs": [
    {
     "name": "stdout",
     "output_type": "stream",
     "text": [
      "<class 'pandas.core.frame.DataFrame'>\n",
      "RangeIndex: 100000 entries, 0 to 99999\n",
      "Data columns (total 5 columns):\n",
      " #   Column   Non-Null Count   Dtype  \n",
      "---  ------   --------------   -----  \n",
      " 0   id       100000 non-null  object \n",
      " 1   f0       100000 non-null  float64\n",
      " 2   f1       100000 non-null  float64\n",
      " 3   f2       100000 non-null  float64\n",
      " 4   product  100000 non-null  float64\n",
      "dtypes: float64(4), object(1)\n",
      "memory usage: 3.8+ MB\n",
      "\n",
      "<class 'pandas.core.frame.DataFrame'>\n",
      "RangeIndex: 100000 entries, 0 to 99999\n",
      "Data columns (total 5 columns):\n",
      " #   Column   Non-Null Count   Dtype  \n",
      "---  ------   --------------   -----  \n",
      " 0   id       100000 non-null  object \n",
      " 1   f0       100000 non-null  float64\n",
      " 2   f1       100000 non-null  float64\n",
      " 3   f2       100000 non-null  float64\n",
      " 4   product  100000 non-null  float64\n",
      "dtypes: float64(4), object(1)\n",
      "memory usage: 3.8+ MB\n",
      "\n",
      "<class 'pandas.core.frame.DataFrame'>\n",
      "RangeIndex: 100000 entries, 0 to 99999\n",
      "Data columns (total 5 columns):\n",
      " #   Column   Non-Null Count   Dtype  \n",
      "---  ------   --------------   -----  \n",
      " 0   id       100000 non-null  object \n",
      " 1   f0       100000 non-null  float64\n",
      " 2   f1       100000 non-null  float64\n",
      " 3   f2       100000 non-null  float64\n",
      " 4   product  100000 non-null  float64\n",
      "dtypes: float64(4), object(1)\n",
      "memory usage: 3.8+ MB\n"
     ]
    }
   ],
   "source": [
    "df0.info()\n",
    "print()\n",
    "df1.info()\n",
    "print()\n",
    "df2.info()\n"
   ]
  },
  {
   "cell_type": "code",
   "execution_count": 5,
   "metadata": {
    "trusted": false
   },
   "outputs": [
    {
     "data": {
      "text/html": [
       "<div>\n",
       "<style scoped>\n",
       "    .dataframe tbody tr th:only-of-type {\n",
       "        vertical-align: middle;\n",
       "    }\n",
       "\n",
       "    .dataframe tbody tr th {\n",
       "        vertical-align: top;\n",
       "    }\n",
       "\n",
       "    .dataframe thead th {\n",
       "        text-align: right;\n",
       "    }\n",
       "</style>\n",
       "<table border=\"1\" class=\"dataframe\">\n",
       "  <thead>\n",
       "    <tr style=\"text-align: right;\">\n",
       "      <th></th>\n",
       "      <th>id</th>\n",
       "      <th>f0</th>\n",
       "      <th>f1</th>\n",
       "      <th>f2</th>\n",
       "      <th>product</th>\n",
       "    </tr>\n",
       "  </thead>\n",
       "  <tbody>\n",
       "    <tr>\n",
       "      <th>0</th>\n",
       "      <td>txEyH</td>\n",
       "      <td>0.705745</td>\n",
       "      <td>-0.497823</td>\n",
       "      <td>1.221170</td>\n",
       "      <td>105.280062</td>\n",
       "    </tr>\n",
       "    <tr>\n",
       "      <th>1</th>\n",
       "      <td>2acmU</td>\n",
       "      <td>1.334711</td>\n",
       "      <td>-0.340164</td>\n",
       "      <td>4.365080</td>\n",
       "      <td>73.037750</td>\n",
       "    </tr>\n",
       "    <tr>\n",
       "      <th>2</th>\n",
       "      <td>409Wp</td>\n",
       "      <td>1.022732</td>\n",
       "      <td>0.151990</td>\n",
       "      <td>1.419926</td>\n",
       "      <td>85.265647</td>\n",
       "    </tr>\n",
       "    <tr>\n",
       "      <th>3</th>\n",
       "      <td>iJLyR</td>\n",
       "      <td>-0.032172</td>\n",
       "      <td>0.139033</td>\n",
       "      <td>2.978566</td>\n",
       "      <td>168.620776</td>\n",
       "    </tr>\n",
       "    <tr>\n",
       "      <th>4</th>\n",
       "      <td>Xdl7t</td>\n",
       "      <td>1.988431</td>\n",
       "      <td>0.155413</td>\n",
       "      <td>4.751769</td>\n",
       "      <td>154.036647</td>\n",
       "    </tr>\n",
       "  </tbody>\n",
       "</table>\n",
       "</div>"
      ],
      "text/plain": [
       "      id        f0        f1        f2     product\n",
       "0  txEyH  0.705745 -0.497823  1.221170  105.280062\n",
       "1  2acmU  1.334711 -0.340164  4.365080   73.037750\n",
       "2  409Wp  1.022732  0.151990  1.419926   85.265647\n",
       "3  iJLyR -0.032172  0.139033  2.978566  168.620776\n",
       "4  Xdl7t  1.988431  0.155413  4.751769  154.036647"
      ]
     },
     "execution_count": 5,
     "metadata": {},
     "output_type": "execute_result"
    }
   ],
   "source": [
    "df0.head()"
   ]
  },
  {
   "cell_type": "code",
   "execution_count": 6,
   "metadata": {
    "trusted": false
   },
   "outputs": [
    {
     "data": {
      "text/html": [
       "<div>\n",
       "<style scoped>\n",
       "    .dataframe tbody tr th:only-of-type {\n",
       "        vertical-align: middle;\n",
       "    }\n",
       "\n",
       "    .dataframe tbody tr th {\n",
       "        vertical-align: top;\n",
       "    }\n",
       "\n",
       "    .dataframe thead th {\n",
       "        text-align: right;\n",
       "    }\n",
       "</style>\n",
       "<table border=\"1\" class=\"dataframe\">\n",
       "  <thead>\n",
       "    <tr style=\"text-align: right;\">\n",
       "      <th></th>\n",
       "      <th>id</th>\n",
       "      <th>f0</th>\n",
       "      <th>f1</th>\n",
       "      <th>f2</th>\n",
       "      <th>product</th>\n",
       "    </tr>\n",
       "  </thead>\n",
       "  <tbody>\n",
       "    <tr>\n",
       "      <th>0</th>\n",
       "      <td>kBEdx</td>\n",
       "      <td>-15.001348</td>\n",
       "      <td>-8.276000</td>\n",
       "      <td>-0.005876</td>\n",
       "      <td>3.179103</td>\n",
       "    </tr>\n",
       "    <tr>\n",
       "      <th>1</th>\n",
       "      <td>62mP7</td>\n",
       "      <td>14.272088</td>\n",
       "      <td>-3.475083</td>\n",
       "      <td>0.999183</td>\n",
       "      <td>26.953261</td>\n",
       "    </tr>\n",
       "    <tr>\n",
       "      <th>2</th>\n",
       "      <td>vyE1P</td>\n",
       "      <td>6.263187</td>\n",
       "      <td>-5.948386</td>\n",
       "      <td>5.001160</td>\n",
       "      <td>134.766305</td>\n",
       "    </tr>\n",
       "    <tr>\n",
       "      <th>3</th>\n",
       "      <td>KcrkZ</td>\n",
       "      <td>-13.081196</td>\n",
       "      <td>-11.506057</td>\n",
       "      <td>4.999415</td>\n",
       "      <td>137.945408</td>\n",
       "    </tr>\n",
       "    <tr>\n",
       "      <th>4</th>\n",
       "      <td>AHL4O</td>\n",
       "      <td>12.702195</td>\n",
       "      <td>-8.147433</td>\n",
       "      <td>5.004363</td>\n",
       "      <td>134.766305</td>\n",
       "    </tr>\n",
       "  </tbody>\n",
       "</table>\n",
       "</div>"
      ],
      "text/plain": [
       "      id         f0         f1        f2     product\n",
       "0  kBEdx -15.001348  -8.276000 -0.005876    3.179103\n",
       "1  62mP7  14.272088  -3.475083  0.999183   26.953261\n",
       "2  vyE1P   6.263187  -5.948386  5.001160  134.766305\n",
       "3  KcrkZ -13.081196 -11.506057  4.999415  137.945408\n",
       "4  AHL4O  12.702195  -8.147433  5.004363  134.766305"
      ]
     },
     "execution_count": 6,
     "metadata": {},
     "output_type": "execute_result"
    }
   ],
   "source": [
    "df1.head()"
   ]
  },
  {
   "cell_type": "code",
   "execution_count": 7,
   "metadata": {
    "trusted": false
   },
   "outputs": [
    {
     "data": {
      "text/html": [
       "<div>\n",
       "<style scoped>\n",
       "    .dataframe tbody tr th:only-of-type {\n",
       "        vertical-align: middle;\n",
       "    }\n",
       "\n",
       "    .dataframe tbody tr th {\n",
       "        vertical-align: top;\n",
       "    }\n",
       "\n",
       "    .dataframe thead th {\n",
       "        text-align: right;\n",
       "    }\n",
       "</style>\n",
       "<table border=\"1\" class=\"dataframe\">\n",
       "  <thead>\n",
       "    <tr style=\"text-align: right;\">\n",
       "      <th></th>\n",
       "      <th>id</th>\n",
       "      <th>f0</th>\n",
       "      <th>f1</th>\n",
       "      <th>f2</th>\n",
       "      <th>product</th>\n",
       "    </tr>\n",
       "  </thead>\n",
       "  <tbody>\n",
       "    <tr>\n",
       "      <th>0</th>\n",
       "      <td>fwXo0</td>\n",
       "      <td>-1.146987</td>\n",
       "      <td>0.963328</td>\n",
       "      <td>-0.828965</td>\n",
       "      <td>27.758673</td>\n",
       "    </tr>\n",
       "    <tr>\n",
       "      <th>1</th>\n",
       "      <td>WJtFt</td>\n",
       "      <td>0.262778</td>\n",
       "      <td>0.269839</td>\n",
       "      <td>-2.530187</td>\n",
       "      <td>56.069697</td>\n",
       "    </tr>\n",
       "    <tr>\n",
       "      <th>2</th>\n",
       "      <td>ovLUW</td>\n",
       "      <td>0.194587</td>\n",
       "      <td>0.289035</td>\n",
       "      <td>-5.586433</td>\n",
       "      <td>62.871910</td>\n",
       "    </tr>\n",
       "    <tr>\n",
       "      <th>3</th>\n",
       "      <td>q6cA6</td>\n",
       "      <td>2.236060</td>\n",
       "      <td>-0.553760</td>\n",
       "      <td>0.930038</td>\n",
       "      <td>114.572842</td>\n",
       "    </tr>\n",
       "    <tr>\n",
       "      <th>4</th>\n",
       "      <td>WPMUX</td>\n",
       "      <td>-0.515993</td>\n",
       "      <td>1.716266</td>\n",
       "      <td>5.899011</td>\n",
       "      <td>149.600746</td>\n",
       "    </tr>\n",
       "  </tbody>\n",
       "</table>\n",
       "</div>"
      ],
      "text/plain": [
       "      id        f0        f1        f2     product\n",
       "0  fwXo0 -1.146987  0.963328 -0.828965   27.758673\n",
       "1  WJtFt  0.262778  0.269839 -2.530187   56.069697\n",
       "2  ovLUW  0.194587  0.289035 -5.586433   62.871910\n",
       "3  q6cA6  2.236060 -0.553760  0.930038  114.572842\n",
       "4  WPMUX -0.515993  1.716266  5.899011  149.600746"
      ]
     },
     "execution_count": 7,
     "metadata": {},
     "output_type": "execute_result"
    }
   ],
   "source": [
    "df2.head()"
   ]
  },
  {
   "cell_type": "code",
   "execution_count": 8,
   "metadata": {
    "trusted": false
   },
   "outputs": [
    {
     "data": {
      "text/html": [
       "<div>\n",
       "<style scoped>\n",
       "    .dataframe tbody tr th:only-of-type {\n",
       "        vertical-align: middle;\n",
       "    }\n",
       "\n",
       "    .dataframe tbody tr th {\n",
       "        vertical-align: top;\n",
       "    }\n",
       "\n",
       "    .dataframe thead th {\n",
       "        text-align: right;\n",
       "    }\n",
       "</style>\n",
       "<table border=\"1\" class=\"dataframe\">\n",
       "  <thead>\n",
       "    <tr style=\"text-align: right;\">\n",
       "      <th></th>\n",
       "      <th>f0</th>\n",
       "      <th>f1</th>\n",
       "      <th>f2</th>\n",
       "      <th>product</th>\n",
       "    </tr>\n",
       "  </thead>\n",
       "  <tbody>\n",
       "    <tr>\n",
       "      <th>count</th>\n",
       "      <td>100000.000000</td>\n",
       "      <td>100000.000000</td>\n",
       "      <td>100000.000000</td>\n",
       "      <td>100000.000000</td>\n",
       "    </tr>\n",
       "    <tr>\n",
       "      <th>mean</th>\n",
       "      <td>0.500419</td>\n",
       "      <td>0.250143</td>\n",
       "      <td>2.502647</td>\n",
       "      <td>92.500000</td>\n",
       "    </tr>\n",
       "    <tr>\n",
       "      <th>std</th>\n",
       "      <td>0.871832</td>\n",
       "      <td>0.504433</td>\n",
       "      <td>3.248248</td>\n",
       "      <td>44.288691</td>\n",
       "    </tr>\n",
       "    <tr>\n",
       "      <th>min</th>\n",
       "      <td>-1.408605</td>\n",
       "      <td>-0.848218</td>\n",
       "      <td>-12.088328</td>\n",
       "      <td>0.000000</td>\n",
       "    </tr>\n",
       "    <tr>\n",
       "      <th>25%</th>\n",
       "      <td>-0.072580</td>\n",
       "      <td>-0.200881</td>\n",
       "      <td>0.287748</td>\n",
       "      <td>56.497507</td>\n",
       "    </tr>\n",
       "    <tr>\n",
       "      <th>50%</th>\n",
       "      <td>0.502360</td>\n",
       "      <td>0.250252</td>\n",
       "      <td>2.515969</td>\n",
       "      <td>91.849972</td>\n",
       "    </tr>\n",
       "    <tr>\n",
       "      <th>75%</th>\n",
       "      <td>1.073581</td>\n",
       "      <td>0.700646</td>\n",
       "      <td>4.715088</td>\n",
       "      <td>128.564089</td>\n",
       "    </tr>\n",
       "    <tr>\n",
       "      <th>max</th>\n",
       "      <td>2.362331</td>\n",
       "      <td>1.343769</td>\n",
       "      <td>16.003790</td>\n",
       "      <td>185.364347</td>\n",
       "    </tr>\n",
       "  </tbody>\n",
       "</table>\n",
       "</div>"
      ],
      "text/plain": [
       "                  f0             f1             f2        product\n",
       "count  100000.000000  100000.000000  100000.000000  100000.000000\n",
       "mean        0.500419       0.250143       2.502647      92.500000\n",
       "std         0.871832       0.504433       3.248248      44.288691\n",
       "min        -1.408605      -0.848218     -12.088328       0.000000\n",
       "25%        -0.072580      -0.200881       0.287748      56.497507\n",
       "50%         0.502360       0.250252       2.515969      91.849972\n",
       "75%         1.073581       0.700646       4.715088     128.564089\n",
       "max         2.362331       1.343769      16.003790     185.364347"
      ]
     },
     "execution_count": 8,
     "metadata": {},
     "output_type": "execute_result"
    }
   ],
   "source": [
    "df0.describe()"
   ]
  },
  {
   "cell_type": "code",
   "execution_count": 9,
   "metadata": {
    "trusted": false
   },
   "outputs": [
    {
     "data": {
      "text/html": [
       "<div>\n",
       "<style scoped>\n",
       "    .dataframe tbody tr th:only-of-type {\n",
       "        vertical-align: middle;\n",
       "    }\n",
       "\n",
       "    .dataframe tbody tr th {\n",
       "        vertical-align: top;\n",
       "    }\n",
       "\n",
       "    .dataframe thead th {\n",
       "        text-align: right;\n",
       "    }\n",
       "</style>\n",
       "<table border=\"1\" class=\"dataframe\">\n",
       "  <thead>\n",
       "    <tr style=\"text-align: right;\">\n",
       "      <th></th>\n",
       "      <th>f0</th>\n",
       "      <th>f1</th>\n",
       "      <th>f2</th>\n",
       "      <th>product</th>\n",
       "    </tr>\n",
       "  </thead>\n",
       "  <tbody>\n",
       "    <tr>\n",
       "      <th>count</th>\n",
       "      <td>100000.000000</td>\n",
       "      <td>100000.000000</td>\n",
       "      <td>100000.000000</td>\n",
       "      <td>100000.000000</td>\n",
       "    </tr>\n",
       "    <tr>\n",
       "      <th>mean</th>\n",
       "      <td>1.141296</td>\n",
       "      <td>-4.796579</td>\n",
       "      <td>2.494541</td>\n",
       "      <td>68.825000</td>\n",
       "    </tr>\n",
       "    <tr>\n",
       "      <th>std</th>\n",
       "      <td>8.965932</td>\n",
       "      <td>5.119872</td>\n",
       "      <td>1.703572</td>\n",
       "      <td>45.944423</td>\n",
       "    </tr>\n",
       "    <tr>\n",
       "      <th>min</th>\n",
       "      <td>-31.609576</td>\n",
       "      <td>-26.358598</td>\n",
       "      <td>-0.018144</td>\n",
       "      <td>0.000000</td>\n",
       "    </tr>\n",
       "    <tr>\n",
       "      <th>25%</th>\n",
       "      <td>-6.298551</td>\n",
       "      <td>-8.267985</td>\n",
       "      <td>1.000021</td>\n",
       "      <td>26.953261</td>\n",
       "    </tr>\n",
       "    <tr>\n",
       "      <th>50%</th>\n",
       "      <td>1.153055</td>\n",
       "      <td>-4.813172</td>\n",
       "      <td>2.011479</td>\n",
       "      <td>57.085625</td>\n",
       "    </tr>\n",
       "    <tr>\n",
       "      <th>75%</th>\n",
       "      <td>8.621015</td>\n",
       "      <td>-1.332816</td>\n",
       "      <td>3.999904</td>\n",
       "      <td>107.813044</td>\n",
       "    </tr>\n",
       "    <tr>\n",
       "      <th>max</th>\n",
       "      <td>29.421755</td>\n",
       "      <td>18.734063</td>\n",
       "      <td>5.019721</td>\n",
       "      <td>137.945408</td>\n",
       "    </tr>\n",
       "  </tbody>\n",
       "</table>\n",
       "</div>"
      ],
      "text/plain": [
       "                  f0             f1             f2        product\n",
       "count  100000.000000  100000.000000  100000.000000  100000.000000\n",
       "mean        1.141296      -4.796579       2.494541      68.825000\n",
       "std         8.965932       5.119872       1.703572      45.944423\n",
       "min       -31.609576     -26.358598      -0.018144       0.000000\n",
       "25%        -6.298551      -8.267985       1.000021      26.953261\n",
       "50%         1.153055      -4.813172       2.011479      57.085625\n",
       "75%         8.621015      -1.332816       3.999904     107.813044\n",
       "max        29.421755      18.734063       5.019721     137.945408"
      ]
     },
     "execution_count": 9,
     "metadata": {},
     "output_type": "execute_result"
    }
   ],
   "source": [
    "df1.describe()"
   ]
  },
  {
   "cell_type": "code",
   "execution_count": 10,
   "metadata": {
    "trusted": false
   },
   "outputs": [
    {
     "data": {
      "text/html": [
       "<div>\n",
       "<style scoped>\n",
       "    .dataframe tbody tr th:only-of-type {\n",
       "        vertical-align: middle;\n",
       "    }\n",
       "\n",
       "    .dataframe tbody tr th {\n",
       "        vertical-align: top;\n",
       "    }\n",
       "\n",
       "    .dataframe thead th {\n",
       "        text-align: right;\n",
       "    }\n",
       "</style>\n",
       "<table border=\"1\" class=\"dataframe\">\n",
       "  <thead>\n",
       "    <tr style=\"text-align: right;\">\n",
       "      <th></th>\n",
       "      <th>f0</th>\n",
       "      <th>f1</th>\n",
       "      <th>f2</th>\n",
       "      <th>product</th>\n",
       "    </tr>\n",
       "  </thead>\n",
       "  <tbody>\n",
       "    <tr>\n",
       "      <th>count</th>\n",
       "      <td>100000.000000</td>\n",
       "      <td>100000.000000</td>\n",
       "      <td>100000.000000</td>\n",
       "      <td>100000.000000</td>\n",
       "    </tr>\n",
       "    <tr>\n",
       "      <th>mean</th>\n",
       "      <td>0.002023</td>\n",
       "      <td>-0.002081</td>\n",
       "      <td>2.495128</td>\n",
       "      <td>95.000000</td>\n",
       "    </tr>\n",
       "    <tr>\n",
       "      <th>std</th>\n",
       "      <td>1.732045</td>\n",
       "      <td>1.730417</td>\n",
       "      <td>3.473445</td>\n",
       "      <td>44.749921</td>\n",
       "    </tr>\n",
       "    <tr>\n",
       "      <th>min</th>\n",
       "      <td>-8.760004</td>\n",
       "      <td>-7.084020</td>\n",
       "      <td>-11.970335</td>\n",
       "      <td>0.000000</td>\n",
       "    </tr>\n",
       "    <tr>\n",
       "      <th>25%</th>\n",
       "      <td>-1.162288</td>\n",
       "      <td>-1.174820</td>\n",
       "      <td>0.130359</td>\n",
       "      <td>59.450441</td>\n",
       "    </tr>\n",
       "    <tr>\n",
       "      <th>50%</th>\n",
       "      <td>0.009424</td>\n",
       "      <td>-0.009482</td>\n",
       "      <td>2.484236</td>\n",
       "      <td>94.925613</td>\n",
       "    </tr>\n",
       "    <tr>\n",
       "      <th>75%</th>\n",
       "      <td>1.158535</td>\n",
       "      <td>1.163678</td>\n",
       "      <td>4.858794</td>\n",
       "      <td>130.595027</td>\n",
       "    </tr>\n",
       "    <tr>\n",
       "      <th>max</th>\n",
       "      <td>7.238262</td>\n",
       "      <td>7.844801</td>\n",
       "      <td>16.739402</td>\n",
       "      <td>190.029838</td>\n",
       "    </tr>\n",
       "  </tbody>\n",
       "</table>\n",
       "</div>"
      ],
      "text/plain": [
       "                  f0             f1             f2        product\n",
       "count  100000.000000  100000.000000  100000.000000  100000.000000\n",
       "mean        0.002023      -0.002081       2.495128      95.000000\n",
       "std         1.732045       1.730417       3.473445      44.749921\n",
       "min        -8.760004      -7.084020     -11.970335       0.000000\n",
       "25%        -1.162288      -1.174820       0.130359      59.450441\n",
       "50%         0.009424      -0.009482       2.484236      94.925613\n",
       "75%         1.158535       1.163678       4.858794     130.595027\n",
       "max         7.238262       7.844801      16.739402     190.029838"
      ]
     },
     "execution_count": 10,
     "metadata": {},
     "output_type": "execute_result"
    }
   ],
   "source": [
    "df2.describe()"
   ]
  },
  {
   "cell_type": "code",
   "execution_count": 11,
   "metadata": {
    "trusted": false
   },
   "outputs": [
    {
     "data": {
      "text/plain": [
       "0"
      ]
     },
     "execution_count": 11,
     "metadata": {},
     "output_type": "execute_result"
    }
   ],
   "source": [
    "df0.duplicated().sum()"
   ]
  },
  {
   "cell_type": "code",
   "execution_count": 12,
   "metadata": {
    "trusted": false
   },
   "outputs": [
    {
     "data": {
      "text/plain": [
       "0"
      ]
     },
     "execution_count": 12,
     "metadata": {},
     "output_type": "execute_result"
    }
   ],
   "source": [
    "df1.duplicated().sum()"
   ]
  },
  {
   "cell_type": "code",
   "execution_count": 13,
   "metadata": {
    "trusted": false
   },
   "outputs": [
    {
     "data": {
      "text/plain": [
       "0"
      ]
     },
     "execution_count": 13,
     "metadata": {},
     "output_type": "execute_result"
    }
   ],
   "source": [
    "df2.duplicated().sum()"
   ]
  },
  {
   "cell_type": "markdown",
   "metadata": {},
   "source": [
    "Nuestros datasets están limpios, es decir, no hay valores nulos, ni duplicados. "
   ]
  },
  {
   "cell_type": "markdown",
   "metadata": {},
   "source": [
    "## Entrena y prueba el modelo para cada región en geo_data_0.csv"
   ]
  },
  {
   "cell_type": "markdown",
   "metadata": {},
   "source": [
    "###  Divide los datos en un conjunto de entrenamiento y un conjunto de validación en una proporción de 75:25"
   ]
  },
  {
   "cell_type": "code",
   "execution_count": 24,
   "metadata": {
    "trusted": false
   },
   "outputs": [],
   "source": [
    "features = df0.drop(columns=['id', 'product'])  # eliminamos 'id' porque no aporta información útil\n",
    "target = df0['product']\n",
    "\n",
    "# dividir en conjunto de entrenamiento (75%) y validación (25%)\n",
    "features_train, features_valid, target_train, target_valid = train_test_split(\n",
    "    features, target, test_size=0.25, random_state=12345\n",
    ")\n",
    "# entrenar el modelo de regresión lineal en la Región 0\n",
    "model = LinearRegression()\n",
    "model.fit(features_train, target_train)\n",
    "\n",
    "# hacer predicciones en el conjunto de validación\n",
    "predictions = model.predict(features_valid)"
   ]
  },
  {
   "cell_type": "markdown",
   "metadata": {},
   "source": [
    "### Muestra el volumen medio de reservas predicho y RMSE del modelo."
   ]
  },
  {
   "cell_type": "code",
   "execution_count": 15,
   "metadata": {
    "trusted": false
   },
   "outputs": [
    {
     "name": "stdout",
     "output_type": "stream",
     "text": [
      "Volumen medio de reservas predicho: 92.593\n",
      "RMSE del modelo: 37.579\n",
      "\n",
      "Predicciones para la Region 0 [ 95.89495185  77.57258261  77.89263965 ...  61.50983303 118.18039721\n",
      " 118.16939229]\n"
     ]
    }
   ],
   "source": [
    "print(f\"Volumen medio de reservas predicho: {predictions.mean():.3f}\")\n",
    "\n",
    "# Calcular el error cuadrático medio (RMSE)\n",
    "rmse = mean_squared_error(target_valid, predictions, squared=False)\n",
    "print(f\"RMSE del modelo: {rmse:.3f}\")\n",
    "print()\n",
    "print(f\"Predicciones para la Region 0\", predictions)"
   ]
  },
  {
   "cell_type": "markdown",
   "metadata": {},
   "source": [
    "\n",
    "\n",
    "### Coloca todos los pasos previos en funciones, realiza y ejecuta los pasos 2.1-2.5 para los archivos 'geo_data_1.csv' y 'geo_data_2.csv'."
   ]
  },
  {
   "cell_type": "code",
   "execution_count": 28,
   "metadata": {
    "trusted": false
   },
   "outputs": [
    {
     "name": "stdout",
     "output_type": "stream",
     "text": [
      "\n",
      " Región 1\n",
      " Volumen medio de reservas predicho: 68.729 barriles\n",
      " RMSE del modelo: 0.893\n",
      "\n",
      "\n",
      " Región 2\n",
      " Volumen medio de reservas predicho: 94.965 barriles\n",
      " RMSE del modelo: 40.030\n",
      "\n",
      "{'Región 1': {'Predicciones': array([ 82.66331365,  54.43178616,  29.74875995, ..., 137.87934053,\n",
      "        83.76196568,  53.95846638]), 'Valores Reales': 71751     80.859783\n",
      "80493     53.906522\n",
      "2655      30.132364\n",
      "53233     53.906522\n",
      "91141      0.000000\n",
      "            ...    \n",
      "12581    137.945408\n",
      "18456    110.992147\n",
      "73035    137.945408\n",
      "63834     84.038886\n",
      "43558     53.906522\n",
      "Name: product, Length: 25000, dtype: float64}, 'Región 2': {'Predicciones': array([ 93.59963303,  75.10515854,  90.06680936, ...,  99.40728116,\n",
      "        77.77991248, 129.03241718]), 'Valores Reales': 71751     61.212375\n",
      "80493     41.850118\n",
      "2655      57.776581\n",
      "53233    100.053761\n",
      "91141    109.897122\n",
      "            ...    \n",
      "12581     28.492402\n",
      "18456     21.431303\n",
      "73035    125.487229\n",
      "63834     99.422903\n",
      "43558    127.445075\n",
      "Name: product, Length: 25000, dtype: float64}}\n"
     ]
    }
   ],
   "source": [
    "# función para entrenar y evaluar el modelo en cada región\n",
    "def train_and_evaluate(region_name, df):\n",
    "    print(f\"\\n {region_name}\")\n",
    "\n",
    "    \n",
    "    # separar características (features) y variable objetivo (target)\n",
    "    features = df.drop(columns=['id', 'product'])\n",
    "    target = df['product']\n",
    "    \n",
    "    # dividir en conjunto de entrenamiento (75%) y validación (25%)\n",
    "    features_train, features_valid, target_train, target_valid = train_test_split(\n",
    "        features, target, test_size=0.25, random_state=12345\n",
    "    )\n",
    "    \n",
    "    # entrenar el modelo de regresión lineal\n",
    "    model = LinearRegression()\n",
    "    model.fit(features_train, target_train)\n",
    "    \n",
    "    # predicciones en el conjunto de validación\n",
    "    predictions = model.predict(features_valid)\n",
    "    \n",
    "    # calculo del error cuadrático medio (RMSE)\n",
    "    rmse = mean_squared_error(target_valid, predictions, squared=False)\n",
    "    \n",
    "    # mostrar resultados\n",
    "    print(f\" Volumen medio de reservas predicho: {predictions.mean():.3f} barriles\")\n",
    "    print(f\" RMSE del modelo: {rmse:.3f}\\n\")\n",
    "    \n",
    "    # devolver las predicciones y las respuestas correctas\n",
    "    return predictions, target_valid\n",
    "\n",
    "# ejecutar la función en las regiones 1 y 2\n",
    "pred_1, valid_1 = train_and_evaluate(\"Región 1\", df1)\n",
    "pred_2, valid_2 = train_and_evaluate(\"Región 2\", df2)\n",
    "\n",
    "# guardamos los valores predichos y reales en un diccionario\n",
    "predictions_dict = {\n",
    "    \"Región 1\": {\"Predicciones\": pred_1, \"Valores Reales\": valid_1},\n",
    "    \"Región 2\": {\"Predicciones\": pred_2, \"Valores Reales\": valid_2},\n",
    "}\n",
    "\n",
    "# Mostrar el diccionario con los resultados\n",
    "print(predictions_dict)"
   ]
  },
  {
   "cell_type": "markdown",
   "metadata": {},
   "source": [
    "### Analiza los resultados."
   ]
  },
  {
   "cell_type": "markdown",
   "metadata": {},
   "source": [
    "**Me referiré a las regiones, de acuerdo a los números de sus datasets correspopndientes, es decir, 0, 1 y 2.**\n",
    "\n",
    "La Región 2 parece tener la mayor cantidad de reservas predichas, pero también tiene el error más alto, lo que introduce más incertidumbre.\n",
    "\n",
    "Mientras que la Región 1 es la más estable en términos de precisión, ya que tiene el menor error RMSE, pero es la que tiene menor volumen de reservas de barriles."
   ]
  },
  {
   "cell_type": "markdown",
   "metadata": {},
   "source": [
    "## Cálculo de ganancias"
   ]
  },
  {
   "cell_type": "markdown",
   "metadata": {},
   "source": [
    "### Almacena todos los valores necesarios para los cálculos en variables separadas.\n",
    "\n",
    "Dada la inversión de 100 millones por 200 pozos petrolíferos, de media un pozo petrolífero debe producir al menos un valor de 500,000 dólares en unidades para evitar pérdidas (esto es equivalente a 111.1 unidades). Compara esta cantidad con la cantidad media de reservas en cada región."
   ]
  },
  {
   "cell_type": "code",
   "execution_count": 29,
   "metadata": {
    "trusted": false
   },
   "outputs": [],
   "source": [
    "total_budget = 100_000_000  # presupuesto total 100 millones de dolares\n",
    "num_wells = 200  # número de pozos\n",
    "revenue_per_barrel = 4.5  # ingreso por barril en dolares\n",
    "min_revenue_per_well = total_budget / num_wells  # minimo ingreso por pozo para evitar pérdidas\n",
    "min_units_per_well = min_revenue_per_well / revenue_per_barrel  # minimo de barriles para evitar pérdidas"
   ]
  },
  {
   "cell_type": "code",
   "execution_count": 31,
   "metadata": {
    "trusted": false
   },
   "outputs": [
    {
     "data": {
      "text/html": [
       "<div>\n",
       "<style scoped>\n",
       "    .dataframe tbody tr th:only-of-type {\n",
       "        vertical-align: middle;\n",
       "    }\n",
       "\n",
       "    .dataframe tbody tr th {\n",
       "        vertical-align: top;\n",
       "    }\n",
       "\n",
       "    .dataframe thead th {\n",
       "        text-align: right;\n",
       "    }\n",
       "</style>\n",
       "<table border=\"1\" class=\"dataframe\">\n",
       "  <thead>\n",
       "    <tr style=\"text-align: right;\">\n",
       "      <th></th>\n",
       "      <th>Reservas Medias (barriles)</th>\n",
       "    </tr>\n",
       "  </thead>\n",
       "  <tbody>\n",
       "    <tr>\n",
       "      <th>Región 0</th>\n",
       "      <td>92.500000</td>\n",
       "    </tr>\n",
       "    <tr>\n",
       "      <th>Región 1</th>\n",
       "      <td>68.825000</td>\n",
       "    </tr>\n",
       "    <tr>\n",
       "      <th>Región 2</th>\n",
       "      <td>95.000000</td>\n",
       "    </tr>\n",
       "    <tr>\n",
       "      <th>Mínimo requerido para evitar pérdidas</th>\n",
       "      <td>111111.111111</td>\n",
       "    </tr>\n",
       "  </tbody>\n",
       "</table>\n",
       "</div>"
      ],
      "text/plain": [
       "                                       Reservas Medias (barriles)\n",
       "Región 0                                                92.500000\n",
       "Región 1                                                68.825000\n",
       "Región 2                                                95.000000\n",
       "Mínimo requerido para evitar pérdidas               111111.111111"
      ]
     },
     "execution_count": 31,
     "metadata": {},
     "output_type": "execute_result"
    }
   ],
   "source": [
    "# volumen medio de reservas reales en cada región\n",
    "mean_reserves_0 = df0['product'].mean()\n",
    "mean_reserves_1 = df1['product'].mean()\n",
    "mean_reserves_2 = df2['product'].mean()\n",
    "\n",
    "# comparación con el umbral de rentabilidad\n",
    "comparison = {\n",
    "    \"Región 0\": mean_reserves_0,\n",
    "    \"Región 1\": mean_reserves_1,\n",
    "    \"Región 2\": mean_reserves_2,\n",
    "    \"Mínimo requerido para evitar pérdidas\": min_units_per_well\n",
    "}\n",
    "\n",
    "# se crea un DataFrame para visualizar los resultados\n",
    "comparison_df = pd.DataFrame.from_dict(comparison, orient='index', columns=['Reservas Medias (barriles)'])\n",
    "comparison_df\n"
   ]
  },
  {
   "cell_type": "markdown",
   "metadata": {},
   "source": [
    "Esto significa que cada pozo debería producir al menos 111,111.11 barriles en promedio para que la inversión no genere pérdidas."
   ]
  },
  {
   "cell_type": "markdown",
   "metadata": {},
   "source": [
    "### Conclusiones sobre cómo preparar el paso para calcular el beneficio.\n",
    "Para que la inversión de 100 millones de dolares sea rentable, cada pozo debe producir al menos 111.1 barriles en promedio.\n",
    "Sin embargo, los datos muestran que todas las regiones tienen un promedio menor.\n",
    "\n",
    "Por lo que la producción promedio de un pozo no es suficiente para garantizar rentabilidad en ninguna de las regiones.\n",
    "\n",
    "Dado que el promedio de reservas no cumple el umbral, el siguiente paso será seleccionar los 200 pozos más productivos en cada región para ver si, al enfocarnos en los mejores pozos, podemos alcanzar la rentabilidad esperada.\n",
    "\n",
    " Objetivo: Identificar los 200 mejores pozos en cada región con las mayores reservas predichas.\n",
    " Estrategia: Ordenar los pozos por reservas estimadas y elegir los de mayor producción."
   ]
  },
  {
   "cell_type": "markdown",
   "metadata": {},
   "source": [
    "## Escribe una función para calcular la ganancia de un conjunto de pozos de petróleo seleccionados y modela las predicciones:"
   ]
  },
  {
   "cell_type": "markdown",
   "metadata": {},
   "source": [
    "### Elige los 200 pozos con los valores de predicción más altos de cada una de las 3 regiones (es decir, archivos 'csv'). Resume el volumen objetivo de reservas según dichas predicciones. Almacena las predicciones para los 200 pozos para cada una de las 3 regiones. Calcula la ganancia potencial de los 200 pozos principales por región. Presenta tus conclusiones: propón una región para el desarrollo de pozos petrolíferos y justifica tu elección.\n",
    "\n",
    "\n"
   ]
  },
  {
   "cell_type": "code",
   "execution_count": 32,
   "metadata": {
    "scrolled": false,
    "trusted": false
   },
   "outputs": [
    {
     "name": "stdout",
     "output_type": "stream",
     "text": [
      "Ganancias esperadas en cada región:\n",
      "{'Región 0': 133208.26043139852, 'Región 1': 124150.86696681511, 'Región 2': 127103.49963599832}\n",
      "\n",
      "Predicciones de los 200 mejores pozos en cada región:\n",
      "{'Región 0': array([162.81099259, 153.63983709, 162.1534881 ,  96.89358065,\n",
      "       178.87951646, 130.98568123, 173.61278737,  76.18410377,\n",
      "       168.47972873, 164.60822409, 155.34482021, 155.40783108,\n",
      "       118.91726054, 118.48527791, 180.36377557, 159.77978358,\n",
      "       128.38051461, 182.04367351, 127.90901722, 100.81333102,\n",
      "        58.42064953, 139.52359252, 156.97050342, 124.52209058,\n",
      "       182.22512824, 169.85908842, 157.60560086, 147.55196181,\n",
      "       147.09510109, 159.40653576, 168.64449514, 142.76343751,\n",
      "       150.14541181, 122.27401519, 174.19472029, 108.94173577,\n",
      "       148.54060934, 158.04433996, 121.37602505, 146.20211854,\n",
      "       156.90604618, 128.39250111,  99.26611933, 143.56848341,\n",
      "       178.82558367, 144.11998968, 140.13665671, 165.03092297,\n",
      "       162.7699428 , 154.09969866, 163.53756113, 143.93817053,\n",
      "       146.55013764, 156.39936042, 179.13591458, 149.72536038,\n",
      "       156.23837809, 169.17430836, 155.29822159, 156.18066055,\n",
      "       181.07316994, 184.09578493, 154.10509198, 152.31569157,\n",
      "       124.98763514, 179.54963733, 175.72447144, 142.90935628,\n",
      "       181.99823204, 135.1453754 , 155.472321  , 134.27282506,\n",
      "       150.69458599, 179.76379309, 130.11352286, 154.78707142,\n",
      "       144.44254321, 124.12315144,  42.09231402, 105.8796695 ,\n",
      "       148.24260769, 140.11505755, 174.94257761, 158.86494124,\n",
      "       162.04164319, 109.95163035, 169.21690636, 111.05933375,\n",
      "       158.85666142, 146.19060017, 126.51664752, 171.49155387,\n",
      "       120.52021532, 160.74280335, 152.41687788, 158.24942985,\n",
      "       168.33770557, 165.65990214, 151.90018062, 174.49042842,\n",
      "       173.51730494, 107.11408147, 123.30685484, 120.73311635,\n",
      "       155.70693386, 151.81940368, 111.03805294, 168.48399526,\n",
      "       126.84221084, 148.01029751, 137.03070107, 173.23339294,\n",
      "       158.43620638, 159.18803468, 158.08266662, 181.67951363,\n",
      "       147.57427563, 123.72534098, 141.09274907, 161.84022956,\n",
      "       156.93798743, 172.21605585, 132.08276012,  88.8724773 ,\n",
      "       173.60373251, 148.65776304, 164.5655129 , 147.26707094,\n",
      "       128.87202539, 147.66260223, 156.07068938, 179.37163129,\n",
      "       169.8340187 , 183.5521585 , 112.094873  , 146.47457636,\n",
      "       170.31608003, 154.61921702, 127.54014368, 173.08690386,\n",
      "       147.27167375, 168.94197755, 184.35645537, 175.94741437,\n",
      "       122.70707177, 141.24435972,  91.01034137, 107.71737189,\n",
      "       158.5172461 , 150.1322962 , 141.8903036 , 146.46953625,\n",
      "        72.65335331, 132.72120702,  88.3477881 , 172.32600686,\n",
      "       176.11296234, 155.57155193, 138.03959308, 135.75424664,\n",
      "       130.0327708 , 181.85700852, 137.925302  , 125.62021184,\n",
      "       171.47256238, 182.37804239, 169.05304389, 141.25289229,\n",
      "       161.92478213, 151.91156792, 173.64443327, 172.40595815,\n",
      "       129.72363181, 142.96031704, 150.93420206, 124.74082482,\n",
      "       160.8924009 , 164.59824673, 150.08261644, 148.58533516,\n",
      "       132.28400553, 136.86336774, 176.04890481, 149.91201693,\n",
      "       127.43239061, 178.48721213, 177.63571383, 133.93787782,\n",
      "       175.20609409, 148.01051446, 135.41918962, 166.89044699,\n",
      "       145.53358705, 163.62889589, 162.49586539, 179.68342245,\n",
      "        95.39691722, 160.36146419, 102.18660287, 119.8902608 ]), 'Región 1': array([137.94540774, 137.94540774, 137.94540774, 137.94540774,\n",
      "       137.94540774, 137.94540774, 137.94540774, 137.94540774,\n",
      "       137.94540774, 137.94540774, 137.94540774, 137.94540774,\n",
      "       137.94540774, 137.94540774, 137.94540774, 137.94540774,\n",
      "       137.94540774, 137.94540774, 137.94540774, 137.94540774,\n",
      "       137.94540774, 137.94540774, 137.94540774, 137.94540774,\n",
      "       137.94540774, 137.94540774, 137.94540774, 137.94540774,\n",
      "       137.94540774, 137.94540774, 137.94540774, 137.94540774,\n",
      "       137.94540774, 137.94540774, 137.94540774, 137.94540774,\n",
      "       137.94540774, 137.94540774, 137.94540774, 137.94540774,\n",
      "       137.94540774, 137.94540774, 137.94540774, 137.94540774,\n",
      "       137.94540774, 137.94540774, 137.94540774, 137.94540774,\n",
      "       137.94540774, 137.94540774, 137.94540774, 137.94540774,\n",
      "       137.94540774, 137.94540774, 137.94540774, 137.94540774,\n",
      "       137.94540774, 137.94540774, 137.94540774, 137.94540774,\n",
      "       137.94540774, 137.94540774, 137.94540774, 137.94540774,\n",
      "       137.94540774, 137.94540774, 137.94540774, 137.94540774,\n",
      "       137.94540774, 137.94540774, 137.94540774, 137.94540774,\n",
      "       137.94540774, 137.94540774, 137.94540774, 137.94540774,\n",
      "       137.94540774, 137.94540774, 137.94540774, 137.94540774,\n",
      "       137.94540774, 137.94540774, 137.94540774, 137.94540774,\n",
      "       137.94540774, 137.94540774, 137.94540774, 137.94540774,\n",
      "       137.94540774, 137.94540774, 137.94540774, 137.94540774,\n",
      "       137.94540774, 137.94540774, 137.94540774, 137.94540774,\n",
      "       137.94540774, 137.94540774, 137.94540774, 137.94540774,\n",
      "       137.94540774, 137.94540774, 137.94540774, 137.94540774,\n",
      "       137.94540774, 137.94540774, 137.94540774, 137.94540774,\n",
      "       137.94540774, 137.94540774, 137.94540774, 137.94540774,\n",
      "       137.94540774, 137.94540774, 137.94540774, 137.94540774,\n",
      "       137.94540774, 137.94540774, 137.94540774, 137.94540774,\n",
      "       137.94540774, 137.94540774, 137.94540774, 137.94540774,\n",
      "       137.94540774, 137.94540774, 137.94540774, 137.94540774,\n",
      "       137.94540774, 137.94540774, 137.94540774, 137.94540774,\n",
      "       137.94540774, 137.94540774, 137.94540774, 137.94540774,\n",
      "       137.94540774, 137.94540774, 137.94540774, 137.94540774,\n",
      "       137.94540774, 137.94540774, 137.94540774, 137.94540774,\n",
      "       137.94540774, 137.94540774, 137.94540774, 137.94540774,\n",
      "       137.94540774, 137.94540774, 137.94540774, 137.94540774,\n",
      "       137.94540774, 137.94540774, 137.94540774, 137.94540774,\n",
      "       137.94540774, 137.94540774, 137.94540774, 137.94540774,\n",
      "       137.94540774, 137.94540774, 137.94540774, 137.94540774,\n",
      "       137.94540774, 137.94540774, 137.94540774, 137.94540774,\n",
      "       137.94540774, 137.94540774, 137.94540774, 137.94540774,\n",
      "       137.94540774, 137.94540774, 137.94540774, 137.94540774,\n",
      "       137.94540774, 137.94540774, 137.94540774, 137.94540774,\n",
      "       137.94540774, 137.94540774, 137.94540774, 137.94540774,\n",
      "       137.94540774, 137.94540774, 137.94540774, 137.94540774,\n",
      "       137.94540774, 137.94540774, 137.94540774, 137.94540774,\n",
      "       137.94540774, 137.94540774, 137.94540774, 137.94540774,\n",
      "       137.94540774, 137.94540774, 137.94540774, 137.94540774]), 'Región 2': array([175.10329115, 131.62748144, 141.16006951, 159.67608247,\n",
      "       142.13520281,  90.98019346, 170.54490328, 166.75733767,\n",
      "       183.84145957, 100.1017632 , 133.30134744,  97.99549896,\n",
      "       107.47196422, 118.77268606, 157.46826347, 174.24490441,\n",
      "       164.36051316, 113.99341311, 168.1582641 , 146.12801604,\n",
      "       127.13411538, 134.21770256, 175.33428149, 125.09996066,\n",
      "       123.99173815, 113.49222582, 173.04769767, 147.79629998,\n",
      "       163.25851694, 141.21514869, 129.6605643 , 125.22139468,\n",
      "       156.00715716, 150.0522773 , 124.44422067, 112.52361037,\n",
      "       104.0431339 , 157.46528217, 139.92047181, 136.60693941,\n",
      "       178.58085641, 138.90645488, 133.43649474, 154.80965443,\n",
      "       127.05047357, 118.82540357, 189.12432969, 122.05981334,\n",
      "       124.20969654, 137.7973264 ,  74.34979283, 167.62982203,\n",
      "       121.85836246,  88.35089017,  82.86362905, 158.17823131,\n",
      "       134.06633331, 161.58835352, 151.97574195, 169.70452348,\n",
      "       137.16368473,  87.25960569, 144.84344165, 120.44300964,\n",
      "        73.16774509, 185.22866442, 128.56762268, 178.52444037,\n",
      "       151.147154  , 176.86871483, 128.04671945, 160.40426641,\n",
      "       141.09660292, 159.34889721, 171.30795765, 142.82680876,\n",
      "       164.91110237, 163.59344027, 135.01946881, 149.34307007,\n",
      "       151.82220459,  83.84419752, 185.80478957, 136.6259435 ,\n",
      "       158.55152174, 135.76031792, 183.54153872, 175.46564542,\n",
      "       163.50560292,  95.48023772, 105.71378954, 157.14541534,\n",
      "       149.46764497, 137.39314925, 168.10475165, 139.82453136,\n",
      "       173.19060435,  75.53006028, 157.59448057, 159.98451191,\n",
      "       132.44556149, 121.42727423, 185.80136704, 120.79168767,\n",
      "       177.6949252 , 173.05875804, 149.65677147, 181.40071735,\n",
      "       156.70539573, 131.2419819 , 118.58638919, 148.1013254 ,\n",
      "       152.34199616, 181.85042483, 151.70181213, 174.41816545,\n",
      "       154.0104749 , 113.24828148, 149.80056956, 162.14727598,\n",
      "       137.10892518, 124.52887861,  98.84144799, 154.53093356,\n",
      "       155.32550019, 179.19661495, 156.89069535, 117.10526211,\n",
      "       105.62067581, 122.34860669, 144.08124975, 163.10152766,\n",
      "       150.87914165, 134.21953257, 158.80685322, 153.31217973,\n",
      "       141.72194102, 123.97293666, 148.00675148, 156.35493722,\n",
      "       131.41374598, 130.28550685, 106.76387345, 136.10138854,\n",
      "       148.15906923, 138.17843985, 173.86321986, 172.79917685,\n",
      "       185.13202575, 109.29479425, 130.19365714, 107.82807008,\n",
      "       128.66505814, 132.94817538, 175.58076485, 119.17082895,\n",
      "        39.7565888 , 147.2745914 , 152.81166138, 118.93857629,\n",
      "        89.74160673, 184.93666656, 112.01368888, 145.81988909,\n",
      "        81.7429936 , 155.9881975 , 128.76733241, 160.01097926,\n",
      "       174.5573021 ,  99.0881914 , 134.64940315, 150.86988253,\n",
      "       183.53504238, 155.11951754, 124.60484983, 133.95762803,\n",
      "       134.71469308, 111.76428642,  76.85890322, 166.85648693,\n",
      "       141.3804727 , 180.2059283 , 177.34484342, 140.94363346,\n",
      "       173.79753549,  82.22610126, 188.04578004, 127.96278927,\n",
      "       150.71629157, 183.76470321, 136.91489905, 154.55494769,\n",
      "       127.37694397, 137.21985569, 105.11520304, 104.94956814,\n",
      "        89.4924996 , 184.89510124, 137.48046944, 134.50714024])}\n",
      "\n",
      " La mejor región para el desarrollo es: Región 0, ya que tiene la mayor ganancia potencial.\n"
     ]
    }
   ],
   "source": [
    "# función para entrenar y hacer predicciones en cada región\n",
    "def train_and_predict(df):\n",
    "    \"\"\"\n",
    "    Entrena un modelo de regresión lineal y genera predicciones para una región.\n",
    "    \n",
    "    Parámetros:\n",
    "    - df: DataFrame con los datos de la región.\n",
    "    \n",
    "    Retorna:\n",
    "    - Predicciones para el conjunto de validación.\n",
    "    - Valores reales del conjunto de validación.\n",
    "    \"\"\"\n",
    "    features = df.drop(columns=['id', 'product'])\n",
    "    target = df['product']\n",
    "    \n",
    "    # dividir en conjunto de entrenamiento y validación\n",
    "    features_train, features_valid, target_train, target_valid = train_test_split(\n",
    "        features, target, test_size=0.25, random_state=12345\n",
    "    )\n",
    "    \n",
    "    # entrenar modelo de regresión lineal\n",
    "    model = LinearRegression()\n",
    "    model.fit(features_train, target_train)\n",
    "    \n",
    "    # hacer predicciones en el conjunto de validación\n",
    "    predictions = model.predict(features_valid)\n",
    "    \n",
    "    return predictions, target_valid\n",
    "\n",
    "# función para seleccionar los 200 pozos con mayores valores predichos\n",
    "def select_top_wells(predictions, target):\n",
    "    \"\"\"\n",
    "    Selecciona los `num_wells` pozos con mayores valores predichos.\n",
    "    \n",
    "    Parámetros:\n",
    "    - predictions: Predicciones del modelo.\n",
    "    - target: Valores reales del conjunto de validación.\n",
    "    \n",
    "    Retorna:\n",
    "    - DataFrame con los 200 pozos seleccionados.\n",
    "    \"\"\"\n",
    "    top_indices = predictions.argsort()[-num_wells:][::-1] #[-num_wells:] selecciona los últimos 200 índices de la lista ordenada (los 200 pozos con mayor predicción)\n",
    "    return target.iloc[top_indices]                        #[::-1] Ordena en orden descendente, asegurando que los índices de los pozos con mayores predicciones estén primero.\n",
    "\n",
    "# función para calcular la ganancia de los pozos seleccionados\n",
    "def calculate_profit(selected_reserves):\n",
    "    \"\"\"\n",
    "    Calcula la ganancia total para los pozos seleccionados.\n",
    "    \n",
    "    Parámetros:\n",
    "    - selected_reserves: Valores reales de las reservas de los pozos seleccionados.\n",
    "    \n",
    "    Retorna:\n",
    "    - Ganancia total esperada.\n",
    "    \"\"\"\n",
    "    return selected_reserves.sum() * revenue_per_barrel\n",
    "\n",
    "# entrenar modelos y obtener predicciones para cada región\n",
    "pred_0, valid_0 = train_and_predict(df0)\n",
    "pred_1, valid_1 = train_and_predict(df1)\n",
    "pred_2, valid_2 = train_and_predict(df2)\n",
    "\n",
    "# seleccionar los 200 pozos con mayores predicciones\n",
    "top_200_0 = select_top_wells(pred_0, valid_0)\n",
    "top_200_1 = select_top_wells(pred_1, valid_1)\n",
    "top_200_2 = select_top_wells(pred_2, valid_2)\n",
    "\n",
    "# calcular ganancias en cada región\n",
    "profit_0 = calculate_profit(top_200_0)\n",
    "profit_1 = calculate_profit(top_200_1)\n",
    "profit_2 = calculate_profit(top_200_2)\n",
    "\n",
    "# almacenar y mostrar resultados\n",
    "profits = {\n",
    "    \"Región 0\": profit_0,\n",
    "    \"Región 1\": profit_1,\n",
    "    \"Región 2\": profit_2\n",
    "}\n",
    "\n",
    "top_predictions = {\n",
    "    \"Región 0\": top_200_0.values,\n",
    "    \"Región 1\": top_200_1.values,\n",
    "    \"Región 2\": top_200_2.values\n",
    "}\n",
    "\n",
    "# determinar la mejor región para el desarrollo\n",
    "best_region = max(profits, key=profits.get)\n",
    "\n",
    "print(\"Ganancias esperadas en cada región:\")\n",
    "print(profits)\n",
    "print(\"\\nPredicciones de los 200 mejores pozos en cada región:\")\n",
    "print(top_predictions)\n",
    "print(f\"\\n La mejor región para el desarrollo es: {best_region}, ya que tiene la mayor ganancia potencial.\")\n"
   ]
  },
  {
   "cell_type": "markdown",
   "metadata": {},
   "source": [
    "<div class=\"alert alert-block alert-success\">  \n",
    "<b>Comentario del revisor</b> <a class=\"tocSkip\"></a><br>  \n",
    "<b>Éxito</b> - Muy bien estructurada la implementación de funciones para seleccionar los mejores pozos y calcular la ganancia potencial. La estrategia de ordenar los pozos por predicciones y evaluar su rentabilidad es sólida y bien fundamentada. \n",
    "</div>"
   ]
  },
  {
   "cell_type": "markdown",
   "metadata": {},
   "source": [
    "## Calcula riesgos y ganancias para cada región:\n",
    "Utilizando las predicciones que almacenaste en el paso 4.2, emplea la técnica del bootstrapping con 1000 muestras para hallar la distribución de los beneficios.\n"
   ]
  },
  {
   "cell_type": "code",
   "execution_count": 20,
   "metadata": {
    "trusted": false
   },
   "outputs": [
    {
     "name": "stdout",
     "output_type": "stream",
     "text": [
      "\n",
      "Distribución de beneficios con bootstrapping:\n",
      "Región 0: Media = $133,212.76, Intervalo de Confianza 95% = ($130,006.42, $136,204.63)\n",
      "Región 1: Media = $124,150.87, Intervalo de Confianza 95% = ($124,150.87, $124,150.87)\n",
      "Región 2: Media = $127,117.89, Intervalo de Confianza 95% = ($123,589.47, $130,623.80)\n"
     ]
    }
   ],
   "source": [
    "# función para realizar bootstrapping\n",
    "def bootstrap_profit(target_values):\n",
    "    \"\"\"\n",
    "    Realiza bootstrapping con 1000 muestras para calcular la distribución de ganancias.\n",
    "    \n",
    "    Parámetros:\n",
    "    - target_values: Valores reales de reservas de los pozos seleccionados.\n",
    "    \n",
    "    Retorna:\n",
    "    - Lista de ganancias obtenidas en 1000 simulaciones.\n",
    "    \"\"\"\n",
    "    bootstrap_profits = []\n",
    "    for _ in range(1000):  # 1000 iteraciones de bootstrapping\n",
    "        sample = target_values.sample(n=num_wells, replace=True)  # Selección con reemplazo\n",
    "        bootstrap_profits.append(calculate_profit(sample))\n",
    "    return bootstrap_profits\n",
    "\n",
    "# aplicar bootstrapping en cada región\n",
    "bootstrap_results = {\n",
    "    \"Región 0\": bootstrap_profit(top_200_0),\n",
    "    \"Región 1\": bootstrap_profit(top_200_1),\n",
    "    \"Región 2\": bootstrap_profit(top_200_2)\n",
    "}\n",
    "\n",
    "# mostrar distribución de beneficios con bootstrapping\n",
    "print(\"\\nDistribución de beneficios con bootstrapping:\")\n",
    "for region, values in bootstrap_results.items():\n",
    "    mean_profit = np.mean(values)\n",
    "    lower_bound = np.percentile(values, 2.5)  # Percentil 2.5%\n",
    "    upper_bound = np.percentile(values, 97.5) # Percentil 97.5%\n",
    "    \n",
    "    print(f\"{region}: Media = ${mean_profit:,.2f}, Intervalo de Confianza 95% = (${lower_bound:,.2f}, ${upper_bound:,.2f})\")\n"
   ]
  },
  {
   "cell_type": "markdown",
   "metadata": {},
   "source": [
    "La Región 0 tiene la mayor ganancia esperada, por ende la hace la mas rentable."
   ]
  },
  {
   "cell_type": "markdown",
   "metadata": {},
   "source": [
    "### Encuentra el beneficio promedio, el intervalo de confianza del 95% y el riesgo de pérdidas. La pérdida es una ganancia negativa, calcúlala como una probabilidad y luego exprésala como un porcentaje."
   ]
  },
  {
   "cell_type": "code",
   "execution_count": 33,
   "metadata": {
    "trusted": false
   },
   "outputs": [
    {
     "name": "stdout",
     "output_type": "stream",
     "text": [
      "\n",
      " Distribución de Beneficios con Bootstrapping:\n",
      "Región 0: Media = $133,250.66, Intervalo 95% = ($130,066.35, $136,415.56), Riesgo de pérdida = 100.00%\n",
      "Región 1: Media = $124,150.87, Intervalo 95% = ($124,150.87, $124,150.87), Riesgo de pérdida = 100.00%\n",
      "Región 2: Media = $127,082.31, Intervalo 95% = ($123,723.61, $130,641.44), Riesgo de pérdida = 100.00%\n"
     ]
    }
   ],
   "source": [
    "# función para realizar bootstrapping y calcular el riesgo de pérdidas\n",
    "def bootstrap_profit(target_values, num_samples=1000):\n",
    "    bootstrap_profits = []\n",
    "    \n",
    "    for _ in range(num_samples):\n",
    "        sample = target_values.sample(n=num_wells, replace=True)  # selección con reemplazo\n",
    "        bootstrap_profits.append(calculate_profit(sample))\n",
    "    \n",
    "    mean_profit = np.mean(bootstrap_profits)  # beneficio promedio\n",
    "    lower_bound = np.percentile(bootstrap_profits, 2.5)  # intervalo inferior (2.5%)\n",
    "    upper_bound = np.percentile(bootstrap_profits, 97.5) # intervalo superior (97.5%)\n",
    "\n",
    "    # calcular el riesgo de pérdida (probabilidad de que la ganancia sea menor que la inversión)\n",
    "    loss_risk = np.mean(np.array(bootstrap_profits) < total_budget) * 100  # expresado en porcentaje\n",
    "\n",
    "    return mean_profit, lower_bound, upper_bound, loss_risk\n",
    "\n",
    "# aplicar bootstrapping en cada región\n",
    "bootstrap_results = {\n",
    "    \"Región 0\": bootstrap_profit(top_200_0),\n",
    "    \"Región 1\": bootstrap_profit(top_200_1),\n",
    "    \"Región 2\": bootstrap_profit(top_200_2)\n",
    "}\n",
    "\n",
    "# mostrar distribución de beneficios con bootstrapping\n",
    "print(\"\\n Distribución de Beneficios con Bootstrapping:\")\n",
    "for region, values in bootstrap_results.items():\n",
    "    mean_profit, lower_bound, upper_bound, loss_risk = values\n",
    "    print(f\"{region}: Media = ${mean_profit:,.2f}, Intervalo 95% = (${lower_bound:,.2f}, ${upper_bound:,.2f}), Riesgo de pérdida = {loss_risk:.2f}%\")\n"
   ]
  },
  {
   "cell_type": "markdown",
   "metadata": {},
   "source": [
    "Todas las regiones tienen un riesgo de pérdida del 100%, lo que significa que la inversión de 100 millones nunca se recupera completamente en ninguna de ellas."
   ]
  },
  {
   "cell_type": "markdown",
   "metadata": {},
   "source": [
    "### Presenta tus conclusiones: propón una región para el desarrollo de pozos petrolíferos y justifica tu elección. ¿Coincide tu elección con la elección anterior en el punto 5.1 (de acuerdo a mi indice)?\n"
   ]
  },
  {
   "cell_type": "markdown",
   "metadata": {},
   "source": [
    "En el punto 5.1 (cuando solo analizamos ganancias sin evaluar el riesgo), la Región 0 tenía la mayor ganancia esperada, lo que la hacía la mejor opción.\n",
    "\n",
    "Sin embargo, al incluir la evaluación de riesgos, observamos que todas las regiones presentan un riesgo del 100%, lo que cambia la perspectiva. Es decir, no se recomienda proceder con la inversión."
   ]
  }
 ],
 "metadata": {
  "ExecuteTimeLog": [
   {
    "duration": 3,
    "start_time": "2025-03-04T04:30:15.974Z"
   },
   {
    "duration": 312,
    "start_time": "2025-03-04T04:35:04.488Z"
   },
   {
    "duration": 110,
    "start_time": "2025-03-04T04:38:40.195Z"
   },
   {
    "duration": 7,
    "start_time": "2025-03-04T04:38:54.248Z"
   },
   {
    "duration": 389,
    "start_time": "2025-03-04T04:39:52.675Z"
   },
   {
    "duration": 5,
    "start_time": "2025-03-04T04:40:00.227Z"
   },
   {
    "duration": 28,
    "start_time": "2025-03-04T04:51:37.661Z"
   },
   {
    "duration": 24,
    "start_time": "2025-03-04T04:51:59.248Z"
   },
   {
    "duration": 11,
    "start_time": "2025-03-04T04:55:33.847Z"
   },
   {
    "duration": 7,
    "start_time": "2025-03-04T04:55:37.623Z"
   },
   {
    "duration": 7,
    "start_time": "2025-03-04T04:55:51.789Z"
   },
   {
    "duration": 15,
    "start_time": "2025-03-04T04:56:08.538Z"
   },
   {
    "duration": 12,
    "start_time": "2025-03-04T04:56:27.394Z"
   },
   {
    "duration": 12,
    "start_time": "2025-03-04T04:57:02.421Z"
   },
   {
    "duration": 7,
    "start_time": "2025-03-04T04:57:11.963Z"
   },
   {
    "duration": 7,
    "start_time": "2025-03-04T04:57:16.060Z"
   },
   {
    "duration": 7,
    "start_time": "2025-03-04T04:57:20.229Z"
   },
   {
    "duration": 16,
    "start_time": "2025-03-04T04:58:44.619Z"
   },
   {
    "duration": 60,
    "start_time": "2025-03-04T04:59:24.394Z"
   },
   {
    "duration": 27,
    "start_time": "2025-03-04T04:59:34.898Z"
   },
   {
    "duration": 24,
    "start_time": "2025-03-04T04:59:41.173Z"
   },
   {
    "duration": 25,
    "start_time": "2025-03-04T04:59:45.775Z"
   },
   {
    "duration": 80,
    "start_time": "2025-03-04T05:00:13.338Z"
   },
   {
    "duration": 28,
    "start_time": "2025-03-04T05:00:22.974Z"
   },
   {
    "duration": 30,
    "start_time": "2025-03-04T05:00:32.247Z"
   },
   {
    "duration": 28,
    "start_time": "2025-03-04T05:00:33.570Z"
   },
   {
    "duration": 31,
    "start_time": "2025-03-04T05:00:38.037Z"
   },
   {
    "duration": 497,
    "start_time": "2025-03-04T05:18:02.813Z"
   },
   {
    "duration": 14,
    "start_time": "2025-03-04T05:21:39.200Z"
   },
   {
    "duration": 232,
    "start_time": "2025-03-04T05:29:18.767Z"
   },
   {
    "duration": 16,
    "start_time": "2025-03-04T05:29:51.037Z"
   },
   {
    "duration": 20,
    "start_time": "2025-03-04T05:29:55.996Z"
   },
   {
    "duration": 16,
    "start_time": "2025-03-04T05:38:23.540Z"
   },
   {
    "duration": 3,
    "start_time": "2025-03-04T05:42:20.439Z"
   },
   {
    "duration": 17,
    "start_time": "2025-03-04T05:44:03.796Z"
   },
   {
    "duration": 25,
    "start_time": "2025-03-04T05:44:22.693Z"
   },
   {
    "duration": 3,
    "start_time": "2025-03-04T05:44:45.683Z"
   },
   {
    "duration": 12,
    "start_time": "2025-03-04T05:47:06.498Z"
   },
   {
    "duration": 4,
    "start_time": "2025-03-04T05:47:28.733Z"
   },
   {
    "duration": 5,
    "start_time": "2025-03-04T05:51:24.011Z"
   },
   {
    "duration": 4,
    "start_time": "2025-03-04T05:52:02.693Z"
   },
   {
    "duration": 3,
    "start_time": "2025-03-04T05:53:55.768Z"
   },
   {
    "duration": 825,
    "start_time": "2025-03-04T17:05:03.344Z"
   },
   {
    "duration": 319,
    "start_time": "2025-03-04T17:05:04.171Z"
   },
   {
    "duration": 29,
    "start_time": "2025-03-04T17:05:04.491Z"
   },
   {
    "duration": 11,
    "start_time": "2025-03-04T17:05:04.522Z"
   },
   {
    "duration": 6,
    "start_time": "2025-03-04T17:05:04.536Z"
   },
   {
    "duration": 7,
    "start_time": "2025-03-04T17:05:04.545Z"
   },
   {
    "duration": 27,
    "start_time": "2025-03-04T17:05:04.553Z"
   },
   {
    "duration": 25,
    "start_time": "2025-03-04T17:05:04.606Z"
   },
   {
    "duration": 25,
    "start_time": "2025-03-04T17:05:04.633Z"
   },
   {
    "duration": 54,
    "start_time": "2025-03-04T17:05:04.660Z"
   },
   {
    "duration": 32,
    "start_time": "2025-03-04T17:05:04.716Z"
   },
   {
    "duration": 33,
    "start_time": "2025-03-04T17:05:04.749Z"
   },
   {
    "duration": 41,
    "start_time": "2025-03-04T17:05:04.784Z"
   },
   {
    "duration": 4,
    "start_time": "2025-03-04T17:05:04.828Z"
   },
   {
    "duration": 111,
    "start_time": "2025-03-04T17:35:55.103Z"
   },
   {
    "duration": 5,
    "start_time": "2025-03-04T18:21:24.952Z"
   },
   {
    "duration": 4,
    "start_time": "2025-03-04T18:33:27.653Z"
   },
   {
    "duration": 109,
    "start_time": "2025-03-04T18:34:13.695Z"
   },
   {
    "duration": 34,
    "start_time": "2025-03-04T18:34:24.028Z"
   },
   {
    "duration": 3,
    "start_time": "2025-03-04T18:35:01.632Z"
   },
   {
    "duration": 35,
    "start_time": "2025-03-04T18:35:09.837Z"
   },
   {
    "duration": 38,
    "start_time": "2025-03-04T18:35:25.213Z"
   },
   {
    "duration": 34,
    "start_time": "2025-03-04T18:35:37.608Z"
   },
   {
    "duration": 37,
    "start_time": "2025-03-04T18:35:52.432Z"
   },
   {
    "duration": 7,
    "start_time": "2025-03-04T18:36:39.104Z"
   },
   {
    "duration": 5,
    "start_time": "2025-03-04T18:37:19.259Z"
   },
   {
    "duration": 78,
    "start_time": "2025-03-04T18:37:25.431Z"
   },
   {
    "duration": 82,
    "start_time": "2025-03-04T18:38:02.425Z"
   },
   {
    "duration": 71,
    "start_time": "2025-03-04T18:38:11.936Z"
   },
   {
    "duration": 33,
    "start_time": "2025-03-04T18:43:12.915Z"
   },
   {
    "duration": 321,
    "start_time": "2025-03-04T19:45:31.043Z"
   },
   {
    "duration": 11,
    "start_time": "2025-03-04T19:46:26.412Z"
   },
   {
    "duration": 3,
    "start_time": "2025-03-04T19:50:06.099Z"
   },
   {
    "duration": 9,
    "start_time": "2025-03-04T19:54:20.384Z"
   },
   {
    "duration": 44,
    "start_time": "2025-03-04T20:19:50.815Z"
   },
   {
    "duration": 62,
    "start_time": "2025-03-04T20:21:46.942Z"
   },
   {
    "duration": 3,
    "start_time": "2025-03-04T20:27:21.228Z"
   },
   {
    "duration": 3,
    "start_time": "2025-03-04T20:27:30.848Z"
   },
   {
    "duration": 3,
    "start_time": "2025-03-04T20:28:09.039Z"
   },
   {
    "duration": 53,
    "start_time": "2025-03-04T20:28:45.592Z"
   },
   {
    "duration": 56,
    "start_time": "2025-03-04T20:29:15.988Z"
   },
   {
    "duration": 19,
    "start_time": "2025-03-04T20:39:01.696Z"
   },
   {
    "duration": 53,
    "start_time": "2025-03-04T20:40:48.783Z"
   },
   {
    "duration": 168,
    "start_time": "2025-03-04T23:19:01.551Z"
   },
   {
    "duration": 818,
    "start_time": "2025-03-04T23:19:08.250Z"
   },
   {
    "duration": 293,
    "start_time": "2025-03-04T23:19:09.070Z"
   },
   {
    "duration": 26,
    "start_time": "2025-03-04T23:19:09.365Z"
   },
   {
    "duration": 21,
    "start_time": "2025-03-04T23:19:09.392Z"
   },
   {
    "duration": 9,
    "start_time": "2025-03-04T23:19:09.415Z"
   },
   {
    "duration": 7,
    "start_time": "2025-03-04T23:19:09.425Z"
   },
   {
    "duration": 27,
    "start_time": "2025-03-04T23:19:09.434Z"
   },
   {
    "duration": 50,
    "start_time": "2025-03-04T23:19:09.462Z"
   },
   {
    "duration": 33,
    "start_time": "2025-03-04T23:19:09.514Z"
   },
   {
    "duration": 36,
    "start_time": "2025-03-04T23:19:09.550Z"
   },
   {
    "duration": 51,
    "start_time": "2025-03-04T23:19:09.588Z"
   },
   {
    "duration": 33,
    "start_time": "2025-03-04T23:19:09.641Z"
   },
   {
    "duration": 40,
    "start_time": "2025-03-04T23:19:09.676Z"
   },
   {
    "duration": 5,
    "start_time": "2025-03-04T23:19:09.719Z"
   },
   {
    "duration": 105,
    "start_time": "2025-03-04T23:19:09.725Z"
   },
   {
    "duration": 4,
    "start_time": "2025-03-04T23:19:09.906Z"
   },
   {
    "duration": 12,
    "start_time": "2025-03-04T23:19:09.913Z"
   },
   {
    "duration": 117,
    "start_time": "2025-03-04T23:19:09.927Z"
   },
   {
    "duration": 63,
    "start_time": "2025-03-04T23:19:10.046Z"
   },
   {
    "duration": 4,
    "start_time": "2025-03-04T23:19:10.111Z"
   },
   {
    "duration": 55,
    "start_time": "2025-03-04T23:53:15.284Z"
   },
   {
    "duration": 61,
    "start_time": "2025-03-04T23:57:35.292Z"
   },
   {
    "duration": 4,
    "start_time": "2025-03-04T23:57:54.801Z"
   },
   {
    "duration": 4,
    "start_time": "2025-03-04T23:58:54.515Z"
   },
   {
    "duration": 15,
    "start_time": "2025-03-05T00:01:40.787Z"
   },
   {
    "duration": 241,
    "start_time": "2025-03-05T00:01:40.804Z"
   },
   {
    "duration": 27,
    "start_time": "2025-03-05T00:01:41.046Z"
   },
   {
    "duration": 7,
    "start_time": "2025-03-05T00:01:41.076Z"
   },
   {
    "duration": 26,
    "start_time": "2025-03-05T00:01:41.085Z"
   },
   {
    "duration": 10,
    "start_time": "2025-03-05T00:01:41.113Z"
   },
   {
    "duration": 33,
    "start_time": "2025-03-05T00:01:41.125Z"
   },
   {
    "duration": 53,
    "start_time": "2025-03-05T00:01:41.160Z"
   },
   {
    "duration": 27,
    "start_time": "2025-03-05T00:01:41.215Z"
   },
   {
    "duration": 31,
    "start_time": "2025-03-05T00:01:41.246Z"
   },
   {
    "duration": 54,
    "start_time": "2025-03-05T00:01:41.280Z"
   },
   {
    "duration": 31,
    "start_time": "2025-03-05T00:01:41.337Z"
   },
   {
    "duration": 36,
    "start_time": "2025-03-05T00:01:41.370Z"
   },
   {
    "duration": 7,
    "start_time": "2025-03-05T00:01:41.408Z"
   },
   {
    "duration": 110,
    "start_time": "2025-03-05T00:01:41.418Z"
   },
   {
    "duration": 3,
    "start_time": "2025-03-05T00:01:41.530Z"
   },
   {
    "duration": 78,
    "start_time": "2025-03-05T00:01:41.535Z"
   },
   {
    "duration": 94,
    "start_time": "2025-03-05T00:01:41.621Z"
   },
   {
    "duration": 4,
    "start_time": "2025-03-05T00:01:41.718Z"
   },
   {
    "duration": 58,
    "start_time": "2025-03-05T00:05:44.026Z"
   },
   {
    "duration": 59,
    "start_time": "2025-03-05T00:16:16.506Z"
   },
   {
    "duration": 64,
    "start_time": "2025-03-05T00:52:34.766Z"
   },
   {
    "duration": 3,
    "start_time": "2025-03-05T01:09:27.992Z"
   },
   {
    "duration": 224,
    "start_time": "2025-03-05T01:22:44.241Z"
   },
   {
    "duration": 361,
    "start_time": "2025-03-05T01:24:21.844Z"
   },
   {
    "duration": 165,
    "start_time": "2025-03-05T04:03:53.257Z"
   },
   {
    "duration": 797,
    "start_time": "2025-03-05T04:04:14.139Z"
   },
   {
    "duration": 313,
    "start_time": "2025-03-05T04:04:14.938Z"
   },
   {
    "duration": 27,
    "start_time": "2025-03-05T04:04:15.253Z"
   },
   {
    "duration": 24,
    "start_time": "2025-03-05T04:04:15.282Z"
   },
   {
    "duration": 7,
    "start_time": "2025-03-05T04:04:15.308Z"
   },
   {
    "duration": 7,
    "start_time": "2025-03-05T04:04:15.317Z"
   },
   {
    "duration": 27,
    "start_time": "2025-03-05T04:04:15.325Z"
   },
   {
    "duration": 51,
    "start_time": "2025-03-05T04:04:15.354Z"
   },
   {
    "duration": 26,
    "start_time": "2025-03-05T04:04:15.407Z"
   },
   {
    "duration": 34,
    "start_time": "2025-03-05T04:04:15.435Z"
   },
   {
    "duration": 55,
    "start_time": "2025-03-05T04:04:15.471Z"
   },
   {
    "duration": 33,
    "start_time": "2025-03-05T04:04:15.527Z"
   },
   {
    "duration": 46,
    "start_time": "2025-03-05T04:04:15.561Z"
   },
   {
    "duration": 5,
    "start_time": "2025-03-05T04:04:15.610Z"
   },
   {
    "duration": 114,
    "start_time": "2025-03-05T04:04:15.617Z"
   },
   {
    "duration": 73,
    "start_time": "2025-03-05T04:04:15.733Z"
   },
   {
    "duration": 14,
    "start_time": "2025-03-05T04:04:15.809Z"
   },
   {
    "duration": 204,
    "start_time": "2025-03-05T04:04:15.825Z"
   },
   {
    "duration": 386,
    "start_time": "2025-03-05T04:04:16.106Z"
   },
   {
    "duration": 336,
    "start_time": "2025-03-05T04:21:43.320Z"
   },
   {
    "duration": 387,
    "start_time": "2025-03-05T04:26:59.369Z"
   },
   {
    "duration": 488,
    "start_time": "2025-03-05T04:27:16.051Z"
   },
   {
    "duration": 19,
    "start_time": "2025-03-05T04:37:03.345Z"
   },
   {
    "duration": 124,
    "start_time": "2025-03-05T04:38:10.391Z"
   },
   {
    "duration": 38,
    "start_time": "2025-03-05T04:38:32.112Z"
   },
   {
    "duration": 77,
    "start_time": "2025-03-05T04:38:47.548Z"
   },
   {
    "duration": 39,
    "start_time": "2025-03-05T04:40:14.546Z"
   },
   {
    "duration": 4,
    "start_time": "2025-03-05T04:49:18.923Z"
   },
   {
    "duration": 10,
    "start_time": "2025-03-05T04:50:29.996Z"
   },
   {
    "duration": 9,
    "start_time": "2025-03-05T04:54:54.927Z"
   },
   {
    "duration": 110,
    "start_time": "2025-03-05T05:01:50.116Z"
   },
   {
    "duration": 348,
    "start_time": "2025-03-05T05:05:44.529Z"
   }
  ],
  "kernelspec": {
   "display_name": "Python 3 (ipykernel)",
   "language": "python",
   "name": "python3"
  },
  "language_info": {
   "codemirror_mode": {
    "name": "ipython",
    "version": 3
   },
   "file_extension": ".py",
   "mimetype": "text/x-python",
   "name": "python",
   "nbconvert_exporter": "python",
   "pygments_lexer": "ipython3",
   "version": "3.9.19"
  },
  "toc": {
   "base_numbering": 1,
   "nav_menu": {},
   "number_sections": true,
   "sideBar": true,
   "skip_h1_title": true,
   "title_cell": "Table of Contents",
   "title_sidebar": "Contents",
   "toc_cell": false,
   "toc_position": {
    "height": "calc(100% - 180px)",
    "left": "10px",
    "top": "150px",
    "width": "273.8px"
   },
   "toc_section_display": true,
   "toc_window_display": true
  }
 },
 "nbformat": 4,
 "nbformat_minor": 2
}
